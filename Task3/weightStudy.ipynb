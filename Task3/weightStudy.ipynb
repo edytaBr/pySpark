{
  "nbformat": 4,
  "nbformat_minor": 0,
  "metadata": {
    "colab": {
      "name": "weightStudy.ipynb",
      "provenance": [],
      "collapsed_sections": []
    },
    "kernelspec": {
      "name": "python3",
      "display_name": "Python 3"
    },
    "language_info": {
      "name": "python"
    }
  },
  "cells": [
    {
      "cell_type": "code",
      "execution_count": null,
      "metadata": {
        "id": "nTsR8Xak01Yk"
      },
      "outputs": [],
      "source": [
        "# Config\n",
        "\n"
      ]
    },
    {
      "cell_type": "code",
      "execution_count": null,
      "metadata": {
        "colab": {
          "base_uri": "https://localhost:8080/",
          "height": 532
        },
        "id": "KV61MluBAahm",
        "outputId": "9441efdd-49a6-436a-d82c-4b62f3d332cf"
      },
      "outputs": [
        {
          "output_type": "stream",
          "name": "stdout",
          "text": [
            "\r0% [Working]\r            \rGet:1 http://security.ubuntu.com/ubuntu bionic-security InRelease [88.7 kB]\n",
            "\r0% [Connecting to archive.ubuntu.com (91.189.91.39)] [1 InRelease 0 B/88.7 kB 0\r                                                                               \rHit:2 https://cloud.r-project.org/bin/linux/ubuntu bionic-cran40/ InRelease\n",
            "\r0% [Waiting for headers] [1 InRelease 43.1 kB/88.7 kB 49%] [Waiting for headers\r0% [2 InRelease gpgv 3,626 B] [Waiting for headers] [1 InRelease 43.1 kB/88.7 k\r                                                                               \rHit:3 http://archive.ubuntu.com/ubuntu bionic InRelease\n",
            "\r0% [2 InRelease gpgv 3,626 B] [1 InRelease 43.1 kB/88.7 kB 49%] [Waiting for he\r                                                                               \rIgn:4 https://developer.download.nvidia.com/compute/cuda/repos/ubuntu1804/x86_64  InRelease\n",
            "Get:5 http://archive.ubuntu.com/ubuntu bionic-updates InRelease [88.7 kB]\n",
            "Hit:6 http://ppa.launchpad.net/c2d4u.team/c2d4u4.0+/ubuntu bionic InRelease\n",
            "Ign:7 https://developer.download.nvidia.com/compute/machine-learning/repos/ubuntu1804/x86_64  InRelease\n",
            "Hit:8 https://developer.download.nvidia.com/compute/cuda/repos/ubuntu1804/x86_64  Release\n",
            "Hit:9 https://developer.download.nvidia.com/compute/machine-learning/repos/ubuntu1804/x86_64  Release\n",
            "Get:10 http://archive.ubuntu.com/ubuntu bionic-backports InRelease [74.6 kB]\n",
            "Hit:11 http://ppa.launchpad.net/cran/libgit2/ubuntu bionic InRelease\n",
            "Hit:12 http://ppa.launchpad.net/deadsnakes/ppa/ubuntu bionic InRelease\n",
            "Hit:13 http://ppa.launchpad.net/graphics-drivers/ppa/ubuntu bionic InRelease\n",
            "Fetched 252 kB in 4s (71.6 kB/s)\n",
            "Reading package lists... Done\n",
            "anorexia.csv\t\t   spark-2.3.1-bin-hadoop2.7.tgz    spark-warehouse\n",
            "sample_data\t\t   spark-2.3.1-bin-hadoop2.7.tgz.1\n",
            "spark-2.3.1-bin-hadoop2.7  spark-2.3.1-bin-hadoop2.7.tgz.2\n"
          ]
        },
        {
          "output_type": "execute_result",
          "data": {
            "text/plain": [
              "<pyspark.sql.session.SparkSession at 0x7f7b05998c10>"
            ],
            "text/html": [
              "\n",
              "            <div>\n",
              "                <p><b>SparkSession - in-memory</b></p>\n",
              "                \n",
              "        <div>\n",
              "            <p><b>SparkContext</b></p>\n",
              "\n",
              "            <p><a href=\"http://89233f94ae24:4040\">Spark UI</a></p>\n",
              "\n",
              "            <dl>\n",
              "              <dt>Version</dt>\n",
              "                <dd><code>v2.3.1</code></dd>\n",
              "              <dt>Master</dt>\n",
              "                <dd><code>local[*]</code></dd>\n",
              "              <dt>AppName</dt>\n",
              "                <dd><code>pyspark-shell</code></dd>\n",
              "            </dl>\n",
              "        </div>\n",
              "        \n",
              "            </div>\n",
              "        "
            ]
          },
          "metadata": {},
          "execution_count": 50
        }
      ],
      "source": [
        "# Data frames - tables\n",
        "\n",
        "# Config script\n",
        "!apt-get update\n",
        "!apt-get install openjdk-8-jdk-headless -qq > /dev/null\n",
        "!wget -q http://archive.apache.org/dist/spark/spark-2.3.1/spark-2.3.1-bin-hadoop2.7.tgz\n",
        "!tar xf spark-2.3.1-bin-hadoop2.7.tgz\n",
        "!pip install -q findspark\n",
        "\n",
        "import os\n",
        "os.environ[\"JAVA_HOME\"] = \"/usr/lib/jvm/java-8-openjdk-amd64\"\n",
        "os.environ[\"SPARK_HOME\"] = \"/content/spark-2.3.1-bin-hadoop2.7\"\n",
        "\n",
        "!ls\n",
        "\n",
        "import findspark\n",
        "findspark.init()\n",
        "\n",
        "import pyspark\n",
        "from pyspark.sql import SparkSession\n",
        "spark = SparkSession.builder.getOrCreate() \n",
        "spark"
      ]
    },
    {
      "cell_type": "code",
      "source": [
        "\n"
      ],
      "metadata": {
        "id": "oRKJv6H5069S"
      },
      "execution_count": null,
      "outputs": []
    },
    {
      "cell_type": "code",
      "source": [
        "#imports\n",
        "\n",
        "from pyspark.sql.functions import *\n",
        "import pyspark.sql.functions as sqlfunc\n"
      ],
      "metadata": {
        "id": "mWM9pWf2EnoO"
      },
      "execution_count": null,
      "outputs": []
    },
    {
      "cell_type": "code",
      "source": [
        "\n",
        "# data cleaning\n",
        "data = spark.read.format(\"csv\").option(\"header\", \"true\").load(\"anorexia.csv\")\n",
        "data = data.withColumn(\"Pre_Weight_kg\", round(data.Prewt * 0.45359237, 2)).withColumn(\"Post_Weight_kg\", round(data.Postwt * 0.45359237, 2))\n",
        "data = data.withColumn(\"Treat\", when(data.Treat == \"Cont\", \"Control\")\n",
        "                               .when(data.Treat == \"FT\", \"Family Treatment\")\n",
        "                               .otherwise(\"CTB\"))\n",
        "\n",
        "data = data.withColumn(\"Difference\", round(data.Post_Weight_kg - data.Pre_Weight_kg, 2))\n",
        "summary_by_Treat = data.groupby(\"Treat\").agg(sqlfunc.avg('Difference').alias(\"Average_diff\"),\n",
        "                                             sqlfunc.min(\"Difference\").alias(\"Minimum diff\"),\n",
        "                                             sqlfunc.max(\"Difference\").alias(\"Maximum diff\")\n",
        "                                    \n",
        "                                        )\n",
        "\n",
        "summary_by_Treat.show()"
      ],
      "metadata": {
        "id": "yKbP2CiI11av",
        "colab": {
          "base_uri": "https://localhost:8080/"
        },
        "outputId": "1cb32f4e-1962-43dd-b6eb-ea47028c20c6"
      },
      "execution_count": null,
      "outputs": [
        {
          "output_type": "stream",
          "name": "stdout",
          "text": [
            "+----------------+--------------------+------------+------------+\n",
            "|           Treat|        Average_diff|Minimum diff|Maximum diff|\n",
            "+----------------+--------------------+------------+------------+\n",
            "|             CTB|  1.3648275862068968|       -4.13|        9.48|\n",
            "|         Control|-0.20461538461538456|       -5.54|        7.22|\n",
            "|Family Treatment|  3.2958823529411765|        -2.4|        9.76|\n",
            "+----------------+--------------------+------------+------------+\n",
            "\n"
          ]
        }
      ]
    }
  ]
}