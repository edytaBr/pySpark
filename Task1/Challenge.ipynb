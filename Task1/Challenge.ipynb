{
  "nbformat": 4,
  "nbformat_minor": 0,
  "metadata": {
    "colab": {
      "name": "Challenge.ipynb",
      "provenance": [],
      "collapsed_sections": []
    },
    "kernelspec": {
      "name": "python3",
      "display_name": "Python 3"
    },
    "language_info": {
      "name": "python"
    }
  },
  "cells": [
    {
      "cell_type": "code",
      "execution_count": 1,
      "metadata": {
        "colab": {
          "base_uri": "https://localhost:8080/",
          "height": 673
        },
        "id": "KV61MluBAahm",
        "outputId": "a766eab0-0218-4dd9-a73b-723db7b18dc4"
      },
      "outputs": [
        {
          "output_type": "stream",
          "name": "stdout",
          "text": [
            "\r0% [Working]\r            \rGet:1 https://cloud.r-project.org/bin/linux/ubuntu bionic-cran40/ InRelease [3,626 B]\n",
            "\r0% [Waiting for headers] [Waiting for headers] [1 InRelease 3,626 B/3,626 B 100\r0% [Waiting for headers] [Waiting for headers] [Connecting to ppa.launchpad.net\r                                                                               \rHit:2 http://archive.ubuntu.com/ubuntu bionic InRelease\n",
            "Get:3 http://security.ubuntu.com/ubuntu bionic-security InRelease [88.7 kB]\n",
            "Ign:4 https://developer.download.nvidia.com/compute/cuda/repos/ubuntu1804/x86_64  InRelease\n",
            "Get:5 http://archive.ubuntu.com/ubuntu bionic-updates InRelease [88.7 kB]\n",
            "Ign:6 https://developer.download.nvidia.com/compute/machine-learning/repos/ubuntu1804/x86_64  InRelease\n",
            "Get:7 http://ppa.launchpad.net/c2d4u.team/c2d4u4.0+/ubuntu bionic InRelease [15.9 kB]\n",
            "Get:8 https://developer.download.nvidia.com/compute/cuda/repos/ubuntu1804/x86_64  Release [696 B]\n",
            "Hit:9 https://developer.download.nvidia.com/compute/machine-learning/repos/ubuntu1804/x86_64  Release\n",
            "Get:10 https://developer.download.nvidia.com/compute/cuda/repos/ubuntu1804/x86_64  Release.gpg [836 B]\n",
            "Get:11 http://archive.ubuntu.com/ubuntu bionic-backports InRelease [74.6 kB]\n",
            "Hit:12 http://ppa.launchpad.net/cran/libgit2/ubuntu bionic InRelease\n",
            "Get:13 http://ppa.launchpad.net/deadsnakes/ppa/ubuntu bionic InRelease [15.9 kB]\n",
            "Hit:14 http://ppa.launchpad.net/graphics-drivers/ppa/ubuntu bionic InRelease\n",
            "Get:15 http://security.ubuntu.com/ubuntu bionic-security/main amd64 Packages [2,695 kB]\n",
            "Get:16 http://security.ubuntu.com/ubuntu bionic-security/universe amd64 Packages [1,490 kB]\n",
            "Get:17 http://archive.ubuntu.com/ubuntu bionic-updates/universe amd64 Packages [2,268 kB]\n",
            "Get:18 http://archive.ubuntu.com/ubuntu bionic-updates/main amd64 Packages [3,134 kB]\n",
            "Get:20 https://developer.download.nvidia.com/compute/cuda/repos/ubuntu1804/x86_64  Packages [953 kB]\n",
            "Get:21 http://ppa.launchpad.net/c2d4u.team/c2d4u4.0+/ubuntu bionic/main Sources [1,947 kB]\n",
            "Get:22 http://ppa.launchpad.net/c2d4u.team/c2d4u4.0+/ubuntu bionic/main amd64 Packages [996 kB]\n",
            "Get:23 http://ppa.launchpad.net/deadsnakes/ppa/ubuntu bionic/main amd64 Packages [45.3 kB]\n",
            "Fetched 13.8 MB in 7s (1,868 kB/s)\n",
            "Reading package lists... Done\n",
            "sample_data  spark-2.3.1-bin-hadoop2.7\tspark-2.3.1-bin-hadoop2.7.tgz\n"
          ]
        },
        {
          "output_type": "execute_result",
          "data": {
            "text/plain": [
              "<pyspark.sql.session.SparkSession at 0x7f8ae7bea150>"
            ],
            "text/html": [
              "\n",
              "            <div>\n",
              "                <p><b>SparkSession - in-memory</b></p>\n",
              "                \n",
              "        <div>\n",
              "            <p><b>SparkContext</b></p>\n",
              "\n",
              "            <p><a href=\"http://e95f33c4c6fa:4040\">Spark UI</a></p>\n",
              "\n",
              "            <dl>\n",
              "              <dt>Version</dt>\n",
              "                <dd><code>v2.3.1</code></dd>\n",
              "              <dt>Master</dt>\n",
              "                <dd><code>local[*]</code></dd>\n",
              "              <dt>AppName</dt>\n",
              "                <dd><code>pyspark-shell</code></dd>\n",
              "            </dl>\n",
              "        </div>\n",
              "        \n",
              "            </div>\n",
              "        "
            ]
          },
          "metadata": {},
          "execution_count": 1
        }
      ],
      "source": [
        "# Config script\n",
        "!apt-get update\n",
        "!apt-get install openjdk-8-jdk-headless -qq > /dev/null\n",
        "!wget -q http://archive.apache.org/dist/spark/spark-2.3.1/spark-2.3.1-bin-hadoop2.7.tgz\n",
        "!tar xf spark-2.3.1-bin-hadoop2.7.tgz\n",
        "!pip install -q findspark\n",
        "\n",
        "import os\n",
        "os.environ[\"JAVA_HOME\"] = \"/usr/lib/jvm/java-8-openjdk-amd64\"\n",
        "os.environ[\"SPARK_HOME\"] = \"/content/spark-2.3.1-bin-hadoop2.7\"\n",
        "\n",
        "!ls\n",
        "\n",
        "import findspark\n",
        "findspark.init()\n",
        "\n",
        "import pyspark\n",
        "from pyspark.sql import SparkSession\n",
        "spark = SparkSession.builder.getOrCreate() \n",
        "spark"
      ]
    },
    {
      "cell_type": "markdown",
      "source": [
        "\n",
        "\n",
        "```\n",
        "# This is formatted as code\n",
        "```\n",
        "\n",
        "# Is the Country Mexico: Yes or No"
      ],
      "metadata": {
        "id": "m-aSLXm4_XOq"
      }
    },
    {
      "cell_type": "code",
      "source": [
        "from pyspark.sql.functions import *\n",
        "\n",
        "# read data frame\n",
        "data = spark.read.format(\"csv\").option(\"header\", \"true\").load(\"challenge.csv\")\n",
        "\n",
        "data = data.withColumn(\"Mexico\", when(data.Country == \"Mexico\", \"Yes\").otherwise(\"No\"))"
      ],
      "metadata": {
        "colab": {
          "base_uri": "https://localhost:8080/"
        },
        "id": "Lhri9auc_T-R",
        "outputId": "14b3f299-f6b5-47b0-bfa6-f13ee9718a75"
      },
      "execution_count": 7,
      "outputs": [
        {
          "output_type": "stream",
          "name": "stdout",
          "text": [
            "+---------------+--------------+-----------------+----------+------+\n",
            "|     ip_address|       Country|      Domain Name|Bytes_used|Mexico|\n",
            "+---------------+--------------+-----------------+----------+------+\n",
            "|  52.81.192.172|         China| odnoklassniki.ru|       463|    No|\n",
            "| 119.239.207.13|         China|         youtu.be|        51|    No|\n",
            "|  68.69.217.210|         China|        adobe.com|        10|    No|\n",
            "|   7.191.21.223|      Bulgaria|     linkedin.com|       853|    No|\n",
            "|   211.13.10.68|     Indonesia|          hud.gov|        29|    No|\n",
            "|   239.80.21.97|      Suriname|       smh.com.au|       218|    No|\n",
            "|106.214.106.233|       Jamaica|    amazonaws.com|        95|    No|\n",
            "| 127.242.24.138|         China| surveymonkey.com|       123|    No|\n",
            "|     99.2.6.139|Czech Republic|     geocities.jp|       322|    No|\n",
            "|   237.54.11.63|         China|       amazon.com|        83|    No|\n",
            "| 252.141.157.25|         Japan|      cornell.edu|       374|    No|\n",
            "|185.220.128.248|       Belgium|       weebly.com|       389|    No|\n",
            "|   151.77.19.45|   Afghanistan|independent.co.uk|       282|    No|\n",
            "|  9.161.158.225|     Indonesia|    bloglines.com|       726|    No|\n",
            "| 156.144.61.155|Czech Republic|   slideshare.net|       657|    No|\n",
            "|   8.96.188.151|     Indonesia|          ibm.com|       517|    No|\n",
            "|      5.72.7.65|        Mexico|         youtu.be|       877|   Yes|\n",
            "|227.110.112.144|       Croatia|         ehow.com|       287|    No|\n",
            "|    81.71.28.97|      Thailand|          last.fm|       588|    No|\n",
            "|  9.255.129.184|      Thailand|          mtv.com|       114|    No|\n",
            "+---------------+--------------+-----------------+----------+------+\n",
            "only showing top 20 rows\n",
            "\n"
          ]
        }
      ]
    },
    {
      "cell_type": "code",
      "source": [
        ""
      ],
      "metadata": {
        "id": "Sz8ulXy6_uvO"
      },
      "execution_count": null,
      "outputs": []
    },
    {
      "cell_type": "markdown",
      "source": [
        "# Group by *Mexico* Colum and Count bytes_used: Summary"
      ],
      "metadata": {
        "id": "O49A17D-AxOW"
      }
    },
    {
      "cell_type": "code",
      "source": [
        "# Group by new column - yes, no summary\n",
        "import pyspark.sql.functions as sqlfunc\n",
        "\n",
        "summary = data.groupBy('Mexico').agg(sqlfunc.sum(\"Bytes_used\").alias(\"total_bytes_used\"))\n",
        "\n",
        "#sort\n",
        "summary.sort(col(\"total_bytes_used\").desc()).show()"
      ],
      "metadata": {
        "colab": {
          "base_uri": "https://localhost:8080/"
        },
        "id": "2LJPofnf-wk4",
        "outputId": "3a167384-21e3-48de-a85c-5fe51a1f7547"
      },
      "execution_count": 24,
      "outputs": [
        {
          "output_type": "stream",
          "name": "stdout",
          "text": [
            "+------+----------------+\n",
            "|Mexico|total_bytes_used|\n",
            "+------+----------------+\n",
            "|    No|        508076.0|\n",
            "|   Yes|          6293.0|\n",
            "+------+----------------+\n",
            "\n"
          ]
        }
      ]
    },
    {
      "cell_type": "code",
      "source": [
        "# Group by Country and use the sqlfunc.countDistinct function to calculate the number of IP address in each country"
      ],
      "metadata": {
        "id": "ZWKQoxxn-84B"
      },
      "execution_count": null,
      "outputs": []
    },
    {
      "cell_type": "markdown",
      "source": [
        "# Group by Country and use the sqlfunc.countDistinct function to calculate the number of IP address in each country"
      ],
      "metadata": {
        "id": "u6W2IITBCO4M"
      }
    },
    {
      "cell_type": "code",
      "source": [
        "summary2 = data.groupBy(\"Country\").agg(sqlfunc.countDistinct(data.ip_address).alias(\"Discint address\"))\n",
        "summary2.sort(col(\"Discint address\").desc()).show()"
      ],
      "metadata": {
        "colab": {
          "base_uri": "https://localhost:8080/"
        },
        "id": "9PEvbtBiCZeY",
        "outputId": "fe950f7a-fe87-4949-ed3f-e5c4e5b0a336"
      },
      "execution_count": 25,
      "outputs": [
        {
          "output_type": "stream",
          "name": "stdout",
          "text": [
            "+--------------+---------------+\n",
            "|       Country|Discint address|\n",
            "+--------------+---------------+\n",
            "|         China|            172|\n",
            "|     Indonesia|            114|\n",
            "|   Philippines|             65|\n",
            "|        Russia|             56|\n",
            "|        Brazil|             35|\n",
            "|        Poland|             31|\n",
            "|        Sweden|             28|\n",
            "|         Japan|             25|\n",
            "|Czech Republic|             23|\n",
            "|      Portugal|             23|\n",
            "|        France|             21|\n",
            "|          Peru|             19|\n",
            "|      Colombia|             17|\n",
            "| United States|             15|\n",
            "|     Argentina|             14|\n",
            "|       Ukraine|             14|\n",
            "|        Mexico|             13|\n",
            "|      Thailand|             12|\n",
            "|        Canada|             11|\n",
            "|       Nigeria|             11|\n",
            "+--------------+---------------+\n",
            "only showing top 20 rows\n",
            "\n"
          ]
        }
      ]
    }
  ]
}